{
 "cells": [
  {
   "cell_type": "markdown",
   "id": "75623aef",
   "metadata": {},
   "source": [
    "# Retrieval Augmented Generation (RAG) for Cybersecurity, Pentesting, and Hacking\n",
    "\n",
    "This notebook demonstrates a modular RAG pipeline that integrates with an LLM and supports previous conversations. The goal is to improve LLM responses for cybersecurity topics by augmenting them with relevant retrieved information."
   ]
  },
  {
   "cell_type": "markdown",
   "id": "961af957",
   "metadata": {},
   "source": [
    "## Objectives\n",
    "- Build a modular RAG pipeline for cybersecurity, pentesting, and hacking topics.\n",
    "- Integrate previous conversation context to improve LLM responses.\n",
    "- Use clean, separated modules for each pipeline stage.\n",
    "- Provide clear instructions and explanations for each step."
   ]
  },
  {
   "cell_type": "markdown",
   "id": "92048980",
   "metadata": {},
   "source": [
    "## Pipeline Overview\n",
    "1. **Preprocessing**: Clean and prepare data/documents for retrieval.\n",
    "2. **Retrieval**: Find relevant documents or passages based on a query.\n",
    "3. **Previous Conversation Handling**: Integrate chat history into the retrieval and generation process.\n",
    "4. **Inference**: Use an LLM to generate responses augmented with retrieved information."
   ]
  },
  {
   "cell_type": "markdown",
   "id": "78807ff7",
   "metadata": {},
   "source": [
    "## 1. Preprocessing: Load and Prepare Data\n",
    "Load and preprocess the provided datasets for retrieval."
   ]
  },
  {
   "cell_type": "code",
   "execution_count": null,
   "id": "aeb7bd6f",
   "metadata": {
    "execution": {
     "iopub.execute_input": "2025-06-02T10:54:47.529735Z",
     "iopub.status.busy": "2025-06-02T10:54:47.529167Z",
     "iopub.status.idle": "2025-06-02T10:54:47.984378Z",
     "shell.execute_reply": "2025-06-02T10:54:47.983728Z",
     "shell.execute_reply.started": "2025-06-02T10:54:47.529713Z"
    },
    "trusted": true
   },
   "outputs": [
    {
     "data": {
      "text/html": [
       "<div>\n",
       "<style scoped>\n",
       "    .dataframe tbody tr th:only-of-type {\n",
       "        vertical-align: middle;\n",
       "    }\n",
       "\n",
       "    .dataframe tbody tr th {\n",
       "        vertical-align: top;\n",
       "    }\n",
       "\n",
       "    .dataframe thead th {\n",
       "        text-align: right;\n",
       "    }\n",
       "</style>\n",
       "<table border=\"1\" class=\"dataframe\">\n",
       "  <thead>\n",
       "    <tr style=\"text-align: right;\">\n",
       "      <th></th>\n",
       "      <th>question</th>\n",
       "      <th>answer</th>\n",
       "      <th>explanation</th>\n",
       "      <th>processed_question</th>\n",
       "      <th>processed_answer</th>\n",
       "    </tr>\n",
       "  </thead>\n",
       "  <tbody>\n",
       "    <tr>\n",
       "      <th>0</th>\n",
       "      <td>What is the most effective technique for ident...</td>\n",
       "      <td>3</td>\n",
       "      <td>Using sandboxing technologies to observe behav...</td>\n",
       "      <td>what is the most effective technique for ident...</td>\n",
       "      <td>3</td>\n",
       "    </tr>\n",
       "    <tr>\n",
       "      <th>1</th>\n",
       "      <td>When conducting a penetration test, what techn...</td>\n",
       "      <td>1</td>\n",
       "      <td>Using a slow, methodical scan technique is the...</td>\n",
       "      <td>when conducting a penetration test, what techn...</td>\n",
       "      <td>1</td>\n",
       "    </tr>\n",
       "    <tr>\n",
       "      <th>2</th>\n",
       "      <td>In the context of exploit development, what te...</td>\n",
       "      <td>2</td>\n",
       "      <td>Executing a buffer overflow attack to gain una...</td>\n",
       "      <td>in the context of exploit development, what te...</td>\n",
       "      <td>2</td>\n",
       "    </tr>\n",
       "    <tr>\n",
       "      <th>3</th>\n",
       "      <td>In the context of developing an exploit for a ...</td>\n",
       "      <td>1</td>\n",
       "      <td>A stack-based buffer overflow is a common expl...</td>\n",
       "      <td>in the context of developing an exploit for a ...</td>\n",
       "      <td>1</td>\n",
       "    </tr>\n",
       "    <tr>\n",
       "      <th>4</th>\n",
       "      <td>In the context of modern exploit development f...</td>\n",
       "      <td>1</td>\n",
       "      <td>ROP chaining, or Return-Oriented Programming, ...</td>\n",
       "      <td>in the context of modern exploit development f...</td>\n",
       "      <td>1</td>\n",
       "    </tr>\n",
       "  </tbody>\n",
       "</table>\n",
       "</div>"
      ],
      "text/plain": [
       "                                            question  answer  \\\n",
       "0  What is the most effective technique for ident...       3   \n",
       "1  When conducting a penetration test, what techn...       1   \n",
       "2  In the context of exploit development, what te...       2   \n",
       "3  In the context of developing an exploit for a ...       1   \n",
       "4  In the context of modern exploit development f...       1   \n",
       "\n",
       "                                         explanation  \\\n",
       "0  Using sandboxing technologies to observe behav...   \n",
       "1  Using a slow, methodical scan technique is the...   \n",
       "2  Executing a buffer overflow attack to gain una...   \n",
       "3  A stack-based buffer overflow is a common expl...   \n",
       "4  ROP chaining, or Return-Oriented Programming, ...   \n",
       "\n",
       "                                  processed_question processed_answer  \n",
       "0  what is the most effective technique for ident...                3  \n",
       "1  when conducting a penetration test, what techn...                1  \n",
       "2  in the context of exploit development, what te...                2  \n",
       "3  in the context of developing an exploit for a ...                1  \n",
       "4  in the context of modern exploit development f...                1  "
      ]
     },
     "execution_count": 5,
     "metadata": {},
     "output_type": "execute_result"
    }
   ],
   "source": [
    "from datasets import load_dataset\n",
    "import pandas as pd\n",
    "\n",
    "# Load the Hugging Face dataset\n",
    "pentesting_dataset = load_dataset(\"preemware/pentesting-eval\")\n",
    "\n",
    "# Extract questions and answers from the dataset\n",
    "questions = pentesting_dataset['train']['question']\n",
    "answers = pentesting_dataset['train']['answer']\n",
    "explanations = pentesting_dataset['train']['explanation']\n",
    "\n",
    "# Create a DataFrame with questions and their corresponding answers\n",
    "combined_df = pd.DataFrame({\n",
    "    'question': questions,\n",
    "    'answer': answers,\n",
    "    'explanation': explanations\n",
    "})\n",
    "\n",
    "# Map integer answer index to the actual answer string from choices\n",
    "choices = pentesting_dataset['train']['choices']\n",
    "combined_df['answer_text'] = [row[ans] if ans < len(row) else '' for row, ans in zip(choices, combined_df['answer'])]\n",
    "\n",
    "# Preprocess the content - convert to string, lowercase and strip whitespace\n",
    "combined_df['processed_question'] = combined_df['question'].astype(str).apply(lambda x: x.lower().strip())\n",
    "combined_df['processed_answer'] = combined_df['answer_text'].astype(str).apply(lambda x: x.lower().strip())\n",
    "\n",
    "# Display the first few rows of the dataset\n",
    "combined_df.head()"
   ]
  },
  {
   "cell_type": "markdown",
   "id": "8deccefb",
   "metadata": {},
   "source": [
    "## 2. Retrieval: Embed and Index Documents\n",
    "We use a sentence transformer to embed documents and FAISS for efficient similarity search."
   ]
  },
  {
   "cell_type": "code",
   "execution_count": 6,
   "id": "9f14c2ba",
   "metadata": {
    "execution": {
     "iopub.execute_input": "2025-06-02T10:54:47.985951Z",
     "iopub.status.busy": "2025-06-02T10:54:47.985748Z",
     "iopub.status.idle": "2025-06-02T10:55:07.021357Z",
     "shell.execute_reply": "2025-06-02T10:55:07.020764Z",
     "shell.execute_reply.started": "2025-06-02T10:54:47.985935Z"
    },
    "trusted": true
   },
   "outputs": [
    {
     "name": "stdout",
     "output_type": "stream",
     "text": [
      "Collecting faiss-cpu\n",
      "  Downloading faiss_cpu-1.11.0-cp311-cp311-manylinux_2_28_x86_64.whl.metadata (4.8 kB)\n",
      "Requirement already satisfied: numpy<3.0,>=1.25.0 in /usr/local/lib/python3.11/dist-packages (from faiss-cpu) (1.26.4)\n",
      "Requirement already satisfied: packaging in /usr/local/lib/python3.11/dist-packages (from faiss-cpu) (25.0)\n",
      "Requirement already satisfied: mkl_fft in /usr/local/lib/python3.11/dist-packages (from numpy<3.0,>=1.25.0->faiss-cpu) (1.3.8)\n",
      "Requirement already satisfied: mkl_random in /usr/local/lib/python3.11/dist-packages (from numpy<3.0,>=1.25.0->faiss-cpu) (1.2.4)\n",
      "Requirement already satisfied: mkl_umath in /usr/local/lib/python3.11/dist-packages (from numpy<3.0,>=1.25.0->faiss-cpu) (0.1.1)\n",
      "Requirement already satisfied: mkl in /usr/local/lib/python3.11/dist-packages (from numpy<3.0,>=1.25.0->faiss-cpu) (2025.1.0)\n",
      "Requirement already satisfied: tbb4py in /usr/local/lib/python3.11/dist-packages (from numpy<3.0,>=1.25.0->faiss-cpu) (2022.1.0)\n",
      "Requirement already satisfied: mkl-service in /usr/local/lib/python3.11/dist-packages (from numpy<3.0,>=1.25.0->faiss-cpu) (2.4.1)\n",
      "Requirement already satisfied: intel-openmp<2026,>=2024 in /usr/local/lib/python3.11/dist-packages (from mkl->numpy<3.0,>=1.25.0->faiss-cpu) (2024.2.0)\n",
      "Requirement already satisfied: tbb==2022.* in /usr/local/lib/python3.11/dist-packages (from mkl->numpy<3.0,>=1.25.0->faiss-cpu) (2022.1.0)\n",
      "Requirement already satisfied: tcmlib==1.* in /usr/local/lib/python3.11/dist-packages (from tbb==2022.*->mkl->numpy<3.0,>=1.25.0->faiss-cpu) (1.3.0)\n",
      "Requirement already satisfied: intel-cmplr-lib-rt in /usr/local/lib/python3.11/dist-packages (from mkl_umath->numpy<3.0,>=1.25.0->faiss-cpu) (2024.2.0)\n",
      "Requirement already satisfied: intel-cmplr-lib-ur==2024.2.0 in /usr/local/lib/python3.11/dist-packages (from intel-openmp<2026,>=2024->mkl->numpy<3.0,>=1.25.0->faiss-cpu) (2024.2.0)\n",
      "Downloading faiss_cpu-1.11.0-cp311-cp311-manylinux_2_28_x86_64.whl (31.3 MB)\n",
      "\u001b[2K   \u001b[90m━━━━━━━━━━━━━━━━━━━━━━━━━━━━━━━━━━━━━━━━\u001b[0m \u001b[32m31.3/31.3 MB\u001b[0m \u001b[31m56.9 MB/s\u001b[0m eta \u001b[36m0:00:00\u001b[0m:00:01\u001b[0m00:01\u001b[0m\n",
      "\u001b[?25hInstalling collected packages: faiss-cpu\n",
      "Successfully installed faiss-cpu-1.11.0\n"
     ]
    },
    {
     "data": {
      "application/vnd.jupyter.widget-view+json": {
       "model_id": "9560b7ee6e30401ab3187d8f559f3c0a",
       "version_major": 2,
       "version_minor": 0
      },
      "text/plain": [
       "modules.json:   0%|          | 0.00/349 [00:00<?, ?B/s]"
      ]
     },
     "metadata": {},
     "output_type": "display_data"
    },
    {
     "data": {
      "application/vnd.jupyter.widget-view+json": {
       "model_id": "03981eaec6db4c52bbde2274384341c8",
       "version_major": 2,
       "version_minor": 0
      },
      "text/plain": [
       "config_sentence_transformers.json:   0%|          | 0.00/116 [00:00<?, ?B/s]"
      ]
     },
     "metadata": {},
     "output_type": "display_data"
    },
    {
     "data": {
      "application/vnd.jupyter.widget-view+json": {
       "model_id": "5aaa2eb480d64a25a47800578a5e2175",
       "version_major": 2,
       "version_minor": 0
      },
      "text/plain": [
       "README.md:   0%|          | 0.00/10.5k [00:00<?, ?B/s]"
      ]
     },
     "metadata": {},
     "output_type": "display_data"
    },
    {
     "data": {
      "application/vnd.jupyter.widget-view+json": {
       "model_id": "32d5850be7ae469faa063c5a51c8f53b",
       "version_major": 2,
       "version_minor": 0
      },
      "text/plain": [
       "sentence_bert_config.json:   0%|          | 0.00/53.0 [00:00<?, ?B/s]"
      ]
     },
     "metadata": {},
     "output_type": "display_data"
    },
    {
     "data": {
      "application/vnd.jupyter.widget-view+json": {
       "model_id": "a6dd1ed8e92849e4a220f8f2199990f5",
       "version_major": 2,
       "version_minor": 0
      },
      "text/plain": [
       "config.json:   0%|          | 0.00/612 [00:00<?, ?B/s]"
      ]
     },
     "metadata": {},
     "output_type": "display_data"
    },
    {
     "data": {
      "application/vnd.jupyter.widget-view+json": {
       "model_id": "6021eb5821e348819ee31184fa776289",
       "version_major": 2,
       "version_minor": 0
      },
      "text/plain": [
       "model.safetensors:   0%|          | 0.00/90.9M [00:00<?, ?B/s]"
      ]
     },
     "metadata": {},
     "output_type": "display_data"
    },
    {
     "data": {
      "application/vnd.jupyter.widget-view+json": {
       "model_id": "8c2455ea2ec6471ba01a99c4d6f362eb",
       "version_major": 2,
       "version_minor": 0
      },
      "text/plain": [
       "tokenizer_config.json:   0%|          | 0.00/350 [00:00<?, ?B/s]"
      ]
     },
     "metadata": {},
     "output_type": "display_data"
    },
    {
     "data": {
      "application/vnd.jupyter.widget-view+json": {
       "model_id": "6f5bc013fc4b4003b77381da730b05b1",
       "version_major": 2,
       "version_minor": 0
      },
      "text/plain": [
       "vocab.txt:   0%|          | 0.00/232k [00:00<?, ?B/s]"
      ]
     },
     "metadata": {},
     "output_type": "display_data"
    },
    {
     "data": {
      "application/vnd.jupyter.widget-view+json": {
       "model_id": "84bd88940b1f4fdeb7f5f34577edf0ea",
       "version_major": 2,
       "version_minor": 0
      },
      "text/plain": [
       "tokenizer.json:   0%|          | 0.00/466k [00:00<?, ?B/s]"
      ]
     },
     "metadata": {},
     "output_type": "display_data"
    },
    {
     "data": {
      "application/vnd.jupyter.widget-view+json": {
       "model_id": "e0e8266beb0c4f3d9845376f5e984749",
       "version_major": 2,
       "version_minor": 0
      },
      "text/plain": [
       "special_tokens_map.json:   0%|          | 0.00/112 [00:00<?, ?B/s]"
      ]
     },
     "metadata": {},
     "output_type": "display_data"
    },
    {
     "data": {
      "application/vnd.jupyter.widget-view+json": {
       "model_id": "c0863e4942be445c9a4a30a678507bdc",
       "version_major": 2,
       "version_minor": 0
      },
      "text/plain": [
       "config.json:   0%|          | 0.00/190 [00:00<?, ?B/s]"
      ]
     },
     "metadata": {},
     "output_type": "display_data"
    },
    {
     "data": {
      "application/vnd.jupyter.widget-view+json": {
       "model_id": "0c805ca73ecd4815bfb4d0a2c68750f1",
       "version_major": 2,
       "version_minor": 0
      },
      "text/plain": [
       "Batches:   0%|          | 0/8 [00:00<?, ?it/s]"
      ]
     },
     "metadata": {},
     "output_type": "display_data"
    }
   ],
   "source": [
    "!pip install faiss-cpu\n",
    "\n",
    "from sentence_transformers import SentenceTransformer\n",
    "import faiss\n",
    "import numpy as np\n",
    "\n",
    "# Load a pre-trained sentence transformer model\n",
    "embedder = SentenceTransformer('all-MiniLM-L6-v2')\n",
    "\n",
    "# Embed the processed questions\n",
    "corpus = combined_df['processed_question'].tolist()\n",
    "corpus_embeddings = embedder.encode(corpus, convert_to_numpy=True)\n",
    "\n",
    "# Build a FAISS index\n",
    "dimension = corpus_embeddings.shape[1]\n",
    "index = faiss.IndexFlatL2(dimension)\n",
    "index.add(corpus_embeddings)"
   ]
  },
  {
   "cell_type": "markdown",
   "id": "2457a0c6",
   "metadata": {},
   "source": [
    "## 3. Previous Conversation Handling\n",
    "We maintain a chat history and use it to augment the retrieval and generation process."
   ]
  },
  {
   "cell_type": "code",
   "execution_count": null,
   "id": "0a41737f",
   "metadata": {
    "execution": {
     "iopub.execute_input": "2025-06-02T10:55:07.022421Z",
     "iopub.status.busy": "2025-06-02T10:55:07.022120Z",
     "iopub.status.idle": "2025-06-02T10:55:07.026350Z",
     "shell.execute_reply": "2025-06-02T10:55:07.025548Z",
     "shell.execute_reply.started": "2025-06-02T10:55:07.022395Z"
    },
    "trusted": true
   },
   "outputs": [],
   "source": [
    "# Example previous conversation (can be extended in real use)\n",
    "chat_history = [\n",
    "    \"What is phishing?\",\n",
    "    \"How can I prevent phishing attacks?\",\n",
    "]\n",
    "\n",
    "# Combine chat history into a single context string\n",
    "conversation_context = \" \".join(chat_history)"
   ]
  },
  {
   "cell_type": "markdown",
   "id": "3a1b0491",
   "metadata": {},
   "source": [
    "## 4. Inference: Generate LLM Response with Retrieved Context\n",
    "We retrieve relevant documents based on the latest user query and pass them, along with the conversation context, to the LLM for response generation."
   ]
  },
  {
   "cell_type": "code",
   "execution_count": 8,
   "id": "ae01c1d0",
   "metadata": {
    "execution": {
     "iopub.execute_input": "2025-06-02T10:55:07.027406Z",
     "iopub.status.busy": "2025-06-02T10:55:07.027124Z",
     "iopub.status.idle": "2025-06-02T10:55:11.324893Z",
     "shell.execute_reply": "2025-06-02T10:55:11.324025Z",
     "shell.execute_reply.started": "2025-06-02T10:55:07.027389Z"
    },
    "trusted": true
   },
   "outputs": [
    {
     "data": {
      "application/vnd.jupyter.widget-view+json": {
       "model_id": "8a607e51994a48eaa3744fca1e343300",
       "version_major": 2,
       "version_minor": 0
      },
      "text/plain": [
       "config.json:   0%|          | 0.00/762 [00:00<?, ?B/s]"
      ]
     },
     "metadata": {},
     "output_type": "display_data"
    },
    {
     "data": {
      "application/vnd.jupyter.widget-view+json": {
       "model_id": "49d65e63ede04c72bab99718a9724c4a",
       "version_major": 2,
       "version_minor": 0
      },
      "text/plain": [
       "model.safetensors:   0%|          | 0.00/353M [00:00<?, ?B/s]"
      ]
     },
     "metadata": {},
     "output_type": "display_data"
    },
    {
     "data": {
      "application/vnd.jupyter.widget-view+json": {
       "model_id": "8c8d60c5df5049d496328d77975b4541",
       "version_major": 2,
       "version_minor": 0
      },
      "text/plain": [
       "generation_config.json:   0%|          | 0.00/124 [00:00<?, ?B/s]"
      ]
     },
     "metadata": {},
     "output_type": "display_data"
    },
    {
     "data": {
      "application/vnd.jupyter.widget-view+json": {
       "model_id": "d93fdd5f562349538dd883337a60bcfb",
       "version_major": 2,
       "version_minor": 0
      },
      "text/plain": [
       "tokenizer_config.json:   0%|          | 0.00/26.0 [00:00<?, ?B/s]"
      ]
     },
     "metadata": {},
     "output_type": "display_data"
    },
    {
     "data": {
      "application/vnd.jupyter.widget-view+json": {
       "model_id": "15de1ecf842042b8ac9aafbbdc65dce8",
       "version_major": 2,
       "version_minor": 0
      },
      "text/plain": [
       "vocab.json:   0%|          | 0.00/1.04M [00:00<?, ?B/s]"
      ]
     },
     "metadata": {},
     "output_type": "display_data"
    },
    {
     "data": {
      "application/vnd.jupyter.widget-view+json": {
       "model_id": "391dc41fedac487ab5f817a89877cb67",
       "version_major": 2,
       "version_minor": 0
      },
      "text/plain": [
       "merges.txt:   0%|          | 0.00/456k [00:00<?, ?B/s]"
      ]
     },
     "metadata": {},
     "output_type": "display_data"
    },
    {
     "data": {
      "application/vnd.jupyter.widget-view+json": {
       "model_id": "1203292576b44e80ada3fe07b31a9a91",
       "version_major": 2,
       "version_minor": 0
      },
      "text/plain": [
       "tokenizer.json:   0%|          | 0.00/1.36M [00:00<?, ?B/s]"
      ]
     },
     "metadata": {},
     "output_type": "display_data"
    },
    {
     "name": "stderr",
     "output_type": "stream",
     "text": [
      "Device set to use cuda:0\n"
     ]
    },
    {
     "data": {
      "application/vnd.jupyter.widget-view+json": {
       "model_id": "dd18bd33c4d94b26a4ffec117783412e",
       "version_major": 2,
       "version_minor": 0
      },
      "text/plain": [
       "Batches:   0%|          | 0/1 [00:00<?, ?it/s]"
      ]
     },
     "metadata": {},
     "output_type": "display_data"
    },
    {
     "name": "stderr",
     "output_type": "stream",
     "text": [
      "Truncation was not explicitly activated but `max_length` is provided a specific value, please use `truncation=True` to explicitly truncate examples to max length. Defaulting to 'longest_first' truncation strategy. If you encode pairs of sequences (GLUE-style) with the tokenizer you can select this strategy more precisely by providing a specific strategy to `truncation`.\n",
      "Setting `pad_token_id` to `eos_token_id`:50256 for open-end generation.\n"
     ]
    },
    {
     "name": "stdout",
     "output_type": "stream",
     "text": [
      "Context: in a penetration testing scenario targeting a web application, which method would be most effective in exploiting sql injection vulnerabilities? during a penetration testing assignment, you suspect that an application is vulnerable to a type of attack that manipulates the database queries. which technique would you most likely use to confirm and exploit this vulnerability?\n",
      "Conversation: What is phishing? How can I prevent phishing attacks?\n",
      "User: Explain SQL injection.\n",
      "Answer: You should not be able to use phishing\n"
     ]
    }
   ],
   "source": [
    "from transformers import pipeline\n",
    "\n",
    "# Use a lightweight LLM for demonstration (distilbert-base-uncased-finetuned-sst-2-english for sentiment, replace with a generative model for real use)\n",
    "generator = pipeline('text-generation', model='distilgpt2')\n",
    "\n",
    "def retrieve(query, top_k=2):\n",
    "    query_embedding = embedder.encode([query], convert_to_numpy=True)\n",
    "    D, I = index.search(query_embedding, top_k)\n",
    "    return [corpus[i] for i in I[0]]\n",
    "\n",
    "# Example user query\n",
    "user_query = \"Explain SQL injection.\"\n",
    "retrieved_docs = retrieve(user_query)\n",
    "\n",
    "# Prepare prompt for LLM\n",
    "prompt = f\"Context: {' '.join(retrieved_docs)}\\nConversation: {conversation_context}\\nUser: {user_query}\\nAnswer:\"\n",
    "\n",
    "# Generate response\n",
    "response = generator(prompt, max_length=100, num_return_sequences=1)[0]['generated_text']\n",
    "print(response)"
   ]
  },
  {
   "cell_type": "markdown",
   "id": "fe823460",
   "metadata": {},
   "source": [
    "## 5. Pipeline Explanation and Design Choices\n",
    "- **Retrieval**: We use sentence-transformers for semantic search and FAISS for fast vector similarity.\n",
    "- **LLM**: For demonstration, we use a lightweight open-source model. For production, consider larger models (e.g., Llama, GPT-3, or domain-specific LLMs).\n",
    "- **Previous Conversation**: The chat history is concatenated and included in the prompt to help the LLM maintain context.\n",
    "- **Cybersecurity Data**: The pipeline is modular and can ingest any cybersecurity-related documents or datasets.\n",
    "\n",
    "You can extend this notebook by:\n",
    "- Using a larger or domain-specific LLM.\n",
    "- Improving preprocessing (e.g., chunking, advanced cleaning).\n",
    "- Enhancing retrieval (e.g., hybrid search, reranking).\n",
    "- Integrating with real chat interfaces."
   ]
  },
  {
   "cell_type": "markdown",
   "id": "50d99ced",
   "metadata": {},
   "source": [
    "## 6. References and Further Reading\n",
    "- [Sentence Transformers Documentation](https://www.sbert.net/)\n",
    "- [FAISS Documentation](https://faiss.ai/)\n",
    "- [HuggingFace Transformers](https://huggingface.co/docs/transformers/index)\n",
    "- [RAG Paper (Facebook AI)](https://arxiv.org/abs/2005.11401)"
   ]
  },
  {
   "cell_type": "markdown",
   "id": "6bbd9a7a",
   "metadata": {},
   "source": [
    "## 7. Testing the RAG Pipeline\n",
    "This section demonstrates how to test the RAG pipeline by running queries and generating responses using the LLM."
   ]
  },
  {
   "cell_type": "code",
   "execution_count": 9,
   "id": "1a442fa5",
   "metadata": {
    "execution": {
     "iopub.execute_input": "2025-06-02T10:55:11.326852Z",
     "iopub.status.busy": "2025-06-02T10:55:11.326630Z",
     "iopub.status.idle": "2025-06-02T10:55:11.696734Z",
     "shell.execute_reply": "2025-06-02T10:55:11.696047Z",
     "shell.execute_reply.started": "2025-06-02T10:55:11.326834Z"
    },
    "trusted": true
   },
   "outputs": [
    {
     "data": {
      "application/vnd.jupyter.widget-view+json": {
       "model_id": "3dd4646d144146869e7c2afdf7e0faef",
       "version_major": 2,
       "version_minor": 0
      },
      "text/plain": [
       "Batches:   0%|          | 0/1 [00:00<?, ?it/s]"
      ]
     },
     "metadata": {},
     "output_type": "display_data"
    },
    {
     "name": "stderr",
     "output_type": "stream",
     "text": [
      "Setting `pad_token_id` to `eos_token_id`:50256 for open-end generation.\n"
     ]
    },
    {
     "name": "stdout",
     "output_type": "stream",
     "text": [
      "Query: What are the common cybersecurity threats in 2024?\n",
      "\n",
      "Generated Response: Context: which vulnerability exploitation was specifically notable for being a crucial part of a state-sponsored cyberweapon that targeted industrial control systems? in the context of advanced persistent threats (apts), what technique is most effective for a cybersecurity analyst to identify and disrupt the attacker's control mechanisms?\n",
      "Conversation: What is phishing? How can I prevent phishing attacks?\n",
      "User: What are the common cybersecurity threats in 2024?\n",
      "Answer: Here at this point, my solution is a vulnerability in my attacker's control system. At the moment my victim and the attacker are using the phishing application as \"real\" (regexp) and \"fake\" (hash) for a malicious\n"
     ]
    }
   ],
   "source": [
    "# Example: Test the RAG pipeline with a query\n",
    "\n",
    "# Define a test query\n",
    "user_query = \"What are the common cybersecurity threats in 2024?\"\n",
    "\n",
    "# Retrieve relevant documents\n",
    "retrieved_docs = retrieve(user_query)\n",
    "\n",
    "# Prepare the prompt for the LLM\n",
    "prompt = f\"Context: {' '.join(retrieved_docs)}\\nConversation: {conversation_context}\\nUser: {user_query}\\nAnswer:\"\n",
    "\n",
    "# Generate a response\n",
    "response = generator(prompt, max_new_tokens=50, num_return_sequences=1)[0]['generated_text']\n",
    "\n",
    "# Display the response\n",
    "print(\"Query:\", user_query)\n",
    "print(\"\\nGenerated Response:\", response)"
   ]
  },
  {
   "cell_type": "markdown",
   "id": "2da3e1d2",
   "metadata": {},
   "source": [
    "## 8. Evaluation of the RAG Pipeline\n",
    "This section evaluates the RAG pipeline using the `preemware/pentesting-eval` dataset. We sample 10-20% of the data, generate responses, and compare them with the ground truth using quantitative and qualitative metrics."
   ]
  },
  {
   "cell_type": "code",
   "execution_count": 10,
   "id": "d88aec4a",
   "metadata": {
    "execution": {
     "iopub.execute_input": "2025-06-02T10:55:11.697592Z",
     "iopub.status.busy": "2025-06-02T10:55:11.697409Z",
     "iopub.status.idle": "2025-06-02T10:55:20.293146Z",
     "shell.execute_reply": "2025-06-02T10:55:20.292454Z",
     "shell.execute_reply.started": "2025-06-02T10:55:11.697578Z"
    },
    "trusted": true
   },
   "outputs": [
    {
     "name": "stderr",
     "output_type": "stream",
     "text": [
      "[nltk_data] Downloading package punkt to /usr/share/nltk_data...\n",
      "[nltk_data]   Package punkt is already up-to-date!\n"
     ]
    },
    {
     "data": {
      "application/vnd.jupyter.widget-view+json": {
       "model_id": "5d16df7451e24055805865784b8c9508",
       "version_major": 2,
       "version_minor": 0
      },
      "text/plain": [
       "Batches:   0%|          | 0/1 [00:00<?, ?it/s]"
      ]
     },
     "metadata": {},
     "output_type": "display_data"
    },
    {
     "name": "stderr",
     "output_type": "stream",
     "text": [
      "Setting `pad_token_id` to `eos_token_id`:50256 for open-end generation.\n"
     ]
    },
    {
     "data": {
      "application/vnd.jupyter.widget-view+json": {
       "model_id": "1dedbcb3e9bb448fa34651ddc2929d9b",
       "version_major": 2,
       "version_minor": 0
      },
      "text/plain": [
       "Batches:   0%|          | 0/1 [00:00<?, ?it/s]"
      ]
     },
     "metadata": {},
     "output_type": "display_data"
    },
    {
     "name": "stderr",
     "output_type": "stream",
     "text": [
      "Setting `pad_token_id` to `eos_token_id`:50256 for open-end generation.\n"
     ]
    },
    {
     "data": {
      "application/vnd.jupyter.widget-view+json": {
       "model_id": "925eb398daf84deabc5900810f150dcf",
       "version_major": 2,
       "version_minor": 0
      },
      "text/plain": [
       "Batches:   0%|          | 0/1 [00:00<?, ?it/s]"
      ]
     },
     "metadata": {},
     "output_type": "display_data"
    },
    {
     "name": "stderr",
     "output_type": "stream",
     "text": [
      "Setting `pad_token_id` to `eos_token_id`:50256 for open-end generation.\n"
     ]
    },
    {
     "data": {
      "application/vnd.jupyter.widget-view+json": {
       "model_id": "a672cf45a2a64b7892a67684d5a6d39a",
       "version_major": 2,
       "version_minor": 0
      },
      "text/plain": [
       "Batches:   0%|          | 0/1 [00:00<?, ?it/s]"
      ]
     },
     "metadata": {},
     "output_type": "display_data"
    },
    {
     "name": "stderr",
     "output_type": "stream",
     "text": [
      "Setting `pad_token_id` to `eos_token_id`:50256 for open-end generation.\n"
     ]
    },
    {
     "data": {
      "application/vnd.jupyter.widget-view+json": {
       "model_id": "95490fba869a45069ebb7230d1859535",
       "version_major": 2,
       "version_minor": 0
      },
      "text/plain": [
       "Batches:   0%|          | 0/1 [00:00<?, ?it/s]"
      ]
     },
     "metadata": {},
     "output_type": "display_data"
    },
    {
     "name": "stderr",
     "output_type": "stream",
     "text": [
      "Setting `pad_token_id` to `eos_token_id`:50256 for open-end generation.\n"
     ]
    },
    {
     "data": {
      "application/vnd.jupyter.widget-view+json": {
       "model_id": "00d77c8b11344aa6adfb7de9fe93e5b3",
       "version_major": 2,
       "version_minor": 0
      },
      "text/plain": [
       "Batches:   0%|          | 0/1 [00:00<?, ?it/s]"
      ]
     },
     "metadata": {},
     "output_type": "display_data"
    },
    {
     "name": "stderr",
     "output_type": "stream",
     "text": [
      "Setting `pad_token_id` to `eos_token_id`:50256 for open-end generation.\n"
     ]
    },
    {
     "data": {
      "application/vnd.jupyter.widget-view+json": {
       "model_id": "c1d4ef6bf4b44d1daaec7b83cf337643",
       "version_major": 2,
       "version_minor": 0
      },
      "text/plain": [
       "Batches:   0%|          | 0/1 [00:00<?, ?it/s]"
      ]
     },
     "metadata": {},
     "output_type": "display_data"
    },
    {
     "name": "stderr",
     "output_type": "stream",
     "text": [
      "Setting `pad_token_id` to `eos_token_id`:50256 for open-end generation.\n"
     ]
    },
    {
     "data": {
      "application/vnd.jupyter.widget-view+json": {
       "model_id": "0ea863cf4e9f4447bb62a9db88d114d0",
       "version_major": 2,
       "version_minor": 0
      },
      "text/plain": [
       "Batches:   0%|          | 0/1 [00:00<?, ?it/s]"
      ]
     },
     "metadata": {},
     "output_type": "display_data"
    },
    {
     "name": "stderr",
     "output_type": "stream",
     "text": [
      "Setting `pad_token_id` to `eos_token_id`:50256 for open-end generation.\n"
     ]
    },
    {
     "data": {
      "application/vnd.jupyter.widget-view+json": {
       "model_id": "c4232aec78ff4c9aa7009c692480e5b8",
       "version_major": 2,
       "version_minor": 0
      },
      "text/plain": [
       "Batches:   0%|          | 0/1 [00:00<?, ?it/s]"
      ]
     },
     "metadata": {},
     "output_type": "display_data"
    },
    {
     "name": "stderr",
     "output_type": "stream",
     "text": [
      "You seem to be using the pipelines sequentially on GPU. In order to maximize efficiency please use a dataset\n",
      "Setting `pad_token_id` to `eos_token_id`:50256 for open-end generation.\n"
     ]
    },
    {
     "data": {
      "application/vnd.jupyter.widget-view+json": {
       "model_id": "523bded623aa4daf980e19cf2a902ca9",
       "version_major": 2,
       "version_minor": 0
      },
      "text/plain": [
       "Batches:   0%|          | 0/1 [00:00<?, ?it/s]"
      ]
     },
     "metadata": {},
     "output_type": "display_data"
    },
    {
     "name": "stderr",
     "output_type": "stream",
     "text": [
      "Setting `pad_token_id` to `eos_token_id`:50256 for open-end generation.\n"
     ]
    },
    {
     "data": {
      "application/vnd.jupyter.widget-view+json": {
       "model_id": "48c0a2e2083d434d82986a04c4b49f78",
       "version_major": 2,
       "version_minor": 0
      },
      "text/plain": [
       "Batches:   0%|          | 0/1 [00:00<?, ?it/s]"
      ]
     },
     "metadata": {},
     "output_type": "display_data"
    },
    {
     "name": "stderr",
     "output_type": "stream",
     "text": [
      "Setting `pad_token_id` to `eos_token_id`:50256 for open-end generation.\n"
     ]
    },
    {
     "data": {
      "application/vnd.jupyter.widget-view+json": {
       "model_id": "7ea90eaedc154bb7bb39318b2324f8f6",
       "version_major": 2,
       "version_minor": 0
      },
      "text/plain": [
       "Batches:   0%|          | 0/1 [00:00<?, ?it/s]"
      ]
     },
     "metadata": {},
     "output_type": "display_data"
    },
    {
     "name": "stderr",
     "output_type": "stream",
     "text": [
      "Setting `pad_token_id` to `eos_token_id`:50256 for open-end generation.\n"
     ]
    },
    {
     "data": {
      "application/vnd.jupyter.widget-view+json": {
       "model_id": "a27acef9936c4c30bfe1d3150f2da9c2",
       "version_major": 2,
       "version_minor": 0
      },
      "text/plain": [
       "Batches:   0%|          | 0/1 [00:00<?, ?it/s]"
      ]
     },
     "metadata": {},
     "output_type": "display_data"
    },
    {
     "name": "stderr",
     "output_type": "stream",
     "text": [
      "Setting `pad_token_id` to `eos_token_id`:50256 for open-end generation.\n"
     ]
    },
    {
     "data": {
      "application/vnd.jupyter.widget-view+json": {
       "model_id": "2fdd76b9b5904dc1a4ab233af7207f5e",
       "version_major": 2,
       "version_minor": 0
      },
      "text/plain": [
       "Batches:   0%|          | 0/1 [00:00<?, ?it/s]"
      ]
     },
     "metadata": {},
     "output_type": "display_data"
    },
    {
     "name": "stderr",
     "output_type": "stream",
     "text": [
      "Setting `pad_token_id` to `eos_token_id`:50256 for open-end generation.\n"
     ]
    },
    {
     "data": {
      "application/vnd.jupyter.widget-view+json": {
       "model_id": "c05bae3ac74f4de9893dd6897622ac66",
       "version_major": 2,
       "version_minor": 0
      },
      "text/plain": [
       "Batches:   0%|          | 0/1 [00:00<?, ?it/s]"
      ]
     },
     "metadata": {},
     "output_type": "display_data"
    },
    {
     "name": "stderr",
     "output_type": "stream",
     "text": [
      "Setting `pad_token_id` to `eos_token_id`:50256 for open-end generation.\n"
     ]
    },
    {
     "data": {
      "application/vnd.jupyter.widget-view+json": {
       "model_id": "f3d31b5d25b44142adb516f0453ebbcf",
       "version_major": 2,
       "version_minor": 0
      },
      "text/plain": [
       "Batches:   0%|          | 0/1 [00:00<?, ?it/s]"
      ]
     },
     "metadata": {},
     "output_type": "display_data"
    },
    {
     "name": "stderr",
     "output_type": "stream",
     "text": [
      "Setting `pad_token_id` to `eos_token_id`:50256 for open-end generation.\n"
     ]
    },
    {
     "data": {
      "application/vnd.jupyter.widget-view+json": {
       "model_id": "9f5480755d98402ab6400f02315a2b95",
       "version_major": 2,
       "version_minor": 0
      },
      "text/plain": [
       "Batches:   0%|          | 0/1 [00:00<?, ?it/s]"
      ]
     },
     "metadata": {},
     "output_type": "display_data"
    },
    {
     "name": "stderr",
     "output_type": "stream",
     "text": [
      "Setting `pad_token_id` to `eos_token_id`:50256 for open-end generation.\n"
     ]
    },
    {
     "data": {
      "application/vnd.jupyter.widget-view+json": {
       "model_id": "8f702b50e05b4979b80a4ec57439d0b1",
       "version_major": 2,
       "version_minor": 0
      },
      "text/plain": [
       "Batches:   0%|          | 0/1 [00:00<?, ?it/s]"
      ]
     },
     "metadata": {},
     "output_type": "display_data"
    },
    {
     "name": "stderr",
     "output_type": "stream",
     "text": [
      "Setting `pad_token_id` to `eos_token_id`:50256 for open-end generation.\n"
     ]
    },
    {
     "data": {
      "application/vnd.jupyter.widget-view+json": {
       "model_id": "247b2ae56e6d4237a358f69330656b41",
       "version_major": 2,
       "version_minor": 0
      },
      "text/plain": [
       "Batches:   0%|          | 0/1 [00:00<?, ?it/s]"
      ]
     },
     "metadata": {},
     "output_type": "display_data"
    },
    {
     "name": "stderr",
     "output_type": "stream",
     "text": [
      "Setting `pad_token_id` to `eos_token_id`:50256 for open-end generation.\n"
     ]
    },
    {
     "data": {
      "application/vnd.jupyter.widget-view+json": {
       "model_id": "1f2ed3b69b2d4e8eaf4d1270a44bfb4d",
       "version_major": 2,
       "version_minor": 0
      },
      "text/plain": [
       "Batches:   0%|          | 0/1 [00:00<?, ?it/s]"
      ]
     },
     "metadata": {},
     "output_type": "display_data"
    },
    {
     "name": "stderr",
     "output_type": "stream",
     "text": [
      "Setting `pad_token_id` to `eos_token_id`:50256 for open-end generation.\n"
     ]
    },
    {
     "data": {
      "application/vnd.jupyter.widget-view+json": {
       "model_id": "8ca46e5f610746d985936c0141e40500",
       "version_major": 2,
       "version_minor": 0
      },
      "text/plain": [
       "Batches:   0%|          | 0/1 [00:00<?, ?it/s]"
      ]
     },
     "metadata": {},
     "output_type": "display_data"
    },
    {
     "name": "stderr",
     "output_type": "stream",
     "text": [
      "Setting `pad_token_id` to `eos_token_id`:50256 for open-end generation.\n"
     ]
    },
    {
     "data": {
      "application/vnd.jupyter.widget-view+json": {
       "model_id": "4144e2fcfcb64621bc5f0d83afdd8696",
       "version_major": 2,
       "version_minor": 0
      },
      "text/plain": [
       "Batches:   0%|          | 0/1 [00:00<?, ?it/s]"
      ]
     },
     "metadata": {},
     "output_type": "display_data"
    },
    {
     "name": "stderr",
     "output_type": "stream",
     "text": [
      "Setting `pad_token_id` to `eos_token_id`:50256 for open-end generation.\n"
     ]
    },
    {
     "data": {
      "application/vnd.jupyter.widget-view+json": {
       "model_id": "73e2da387b094ce0a4d2645ff4925e7d",
       "version_major": 2,
       "version_minor": 0
      },
      "text/plain": [
       "Batches:   0%|          | 0/1 [00:00<?, ?it/s]"
      ]
     },
     "metadata": {},
     "output_type": "display_data"
    },
    {
     "name": "stderr",
     "output_type": "stream",
     "text": [
      "Setting `pad_token_id` to `eos_token_id`:50256 for open-end generation.\n"
     ]
    },
    {
     "data": {
      "application/vnd.jupyter.widget-view+json": {
       "model_id": "5703fe5633c244a4b35a7d84d67c89d5",
       "version_major": 2,
       "version_minor": 0
      },
      "text/plain": [
       "Batches:   0%|          | 0/1 [00:00<?, ?it/s]"
      ]
     },
     "metadata": {},
     "output_type": "display_data"
    },
    {
     "name": "stderr",
     "output_type": "stream",
     "text": [
      "Setting `pad_token_id` to `eos_token_id`:50256 for open-end generation.\n"
     ]
    },
    {
     "name": "stdout",
     "output_type": "stream",
     "text": [
      "Statistical Summary:\n",
      "==================\n",
      "Exact Match Rate: 0.00%\n",
      "Average Ground Truth Length: 1.0 characters\n",
      "Average Generated Length: 135.4 characters\n",
      "\n",
      "Examples of Exact Matches:\n",
      "=======================\n",
      "Empty DataFrame\n",
      "Columns: [Question, Ground Truth, Generated Response]\n",
      "Index: []\n",
      "\n",
      "Examples of Non-Matches:\n",
      "=====================\n",
      "                                                                                                                                                                                                                          Question Ground Truth                                                                                                                                                                               Generated Response\n",
      "                                                       in exploit development, which vulnerability type is typically used by attackers to execute arbitrary code by manipulating variables that influence memory allocation sizes?            1                                                                                                                                    use a method to exploit code that is executed in the database\n",
      "                                                 in the context of malware analysis, which technique is most effective at evading signature-based antivirus detection while maintaining the original functionality of the malware?            0                                                                  If the malware has specific information in the file, the malware can use its corresponding method or program to avoid detection\n",
      "in the context of an advanced persistent threat (apt) campaign against a highly secure network, what technique would most likely be used initially by red team operators to maintain stealth while gathering critical information?            2 The security of a secure network is paramount to the security of a key network, so a given system, including their firewall and key access points, provides a high margin of control to the user\n",
      "                                                      during a red team operation, if the target system runs an old version of apache web server (2.2.31), which penetration testing technique would likely be the most effective?            1                                                                                                                                                  If there is any specific answer in a particular\n",
      "                                                                      in the context of network-level exploits, which vulnerability specifically relies on the misuse of the smb protocol by windows systems for its exploitation?            2                                                                                                                                                                                           Answer\n"
     ]
    }
   ],
   "source": [
    "import random\n",
    "from nltk.tokenize import word_tokenize\n",
    "import nltk\n",
    "import numpy as np\n",
    "import pandas as pd\n",
    "\n",
    "# Download required NLTK data\n",
    "nltk.download('punkt')\n",
    "\n",
    "# Sample 10% of the dataset for evaluation\n",
    "eval_sample = combined_df.sample(frac=0.1, random_state=42)\n",
    "\n",
    "# Generate responses and compare with ground truth\n",
    "queries = []\n",
    "ground_truths = []\n",
    "generated_responses = []\n",
    "match_scores = []  # Binary scores for exact matches\n",
    "\n",
    "for idx, row in eval_sample.iterrows():\n",
    "    query = row['processed_question']\n",
    "    answer = row['processed_answer']\n",
    "    explanation = row['explanation']\n",
    "    queries.append(query)\n",
    "    ground_truths.append(answer)\n",
    "\n",
    "    # Retrieve relevant documents and include explanation in context\n",
    "    retrieved_docs = retrieve(query)\n",
    "    context_docs = retrieved_docs + [explanation]\n",
    "\n",
    "    # Prepare a more focused prompt for exact answer matching\n",
    "    prompt = f\"\"\"Context: {' '.join(context_docs)}\n",
    "Question: {query}\n",
    "Instructions: Based on the context, provide only the specific answer number or exact technical response.\n",
    "Answer with just the solution, no explanations.\n",
    "Answer:\"\"\"\n",
    "\n",
    "    # Generate a concise response\n",
    "    response = generator(prompt, max_new_tokens=50, num_return_sequences=1)[0]['generated_text']\n",
    "    \n",
    "    # Extract and clean the response\n",
    "    response = response.split('Answer:')[-1].strip()\n",
    "    # Remove any additional explanations after the answer\n",
    "    response = response.split('.')[0].strip()\n",
    "    generated_responses.append(response)\n",
    "    \n",
    "    # Calculate exact match (binary score)\n",
    "    match_scores.append(1 if response.lower() == answer.lower() else 0)\n",
    "\n",
    "# Create a DataFrame with evaluation results\n",
    "eval_results = pd.DataFrame({\n",
    "    'Question': queries,\n",
    "    'Ground Truth': ground_truths,\n",
    "    'Generated Response': generated_responses,\n",
    "    'Exact Match': match_scores\n",
    "})\n",
    "\n",
    "# Calculate response length statistics\n",
    "eval_results['Ground Truth Length'] = eval_results['Ground Truth'].str.len()\n",
    "eval_results['Generated Length'] = eval_results['Generated Response'].str.len()\n",
    "eval_results['Length Difference'] = eval_results['Generated Length'] - eval_results['Ground Truth Length']\n",
    "\n",
    "# Print statistical summary\n",
    "print(\"Statistical Summary:\")\n",
    "print(\"==================\")\n",
    "print(f\"Exact Match Rate: {eval_results['Exact Match'].mean():.2%}\")\n",
    "print(f\"Average Ground Truth Length: {eval_results['Ground Truth Length'].mean():.1f} characters\")\n",
    "print(f\"Average Generated Length: {eval_results['Generated Length'].mean():.1f} characters\")\n",
    "\n",
    "# Create sample comparison tables\n",
    "print(\"\\nExamples of Exact Matches:\")\n",
    "print(\"=======================\")\n",
    "matches = eval_results[eval_results['Exact Match'] == 1].head()\n",
    "print(matches[['Question', 'Ground Truth', 'Generated Response']].to_string(index=False))\n",
    "\n",
    "print(\"\\nExamples of Non-Matches:\")\n",
    "print(\"=====================\")\n",
    "non_matches = eval_results[eval_results['Exact Match'] == 0].head()\n",
    "print(non_matches[['Question', 'Ground Truth', 'Generated Response']].to_string(index=False))"
   ]
  },
  {
   "cell_type": "markdown",
   "id": "f330c9c7-22ec-49a9-8321-b48cff810175",
   "metadata": {},
   "source": [
    "## 9. Evaluation Report\n",
    "This section provides a detailed analysis of the RAG pipeline's performance, including sample comparisons and qualitative results."
   ]
  },
  {
   "cell_type": "code",
   "execution_count": 11,
   "id": "713b799c-e017-47d4-a489-ff62702e0891",
   "metadata": {
    "execution": {
     "iopub.execute_input": "2025-06-02T10:55:20.294180Z",
     "iopub.status.busy": "2025-06-02T10:55:20.293920Z",
     "iopub.status.idle": "2025-06-02T10:55:21.351501Z",
     "shell.execute_reply": "2025-06-02T10:55:21.350462Z",
     "shell.execute_reply.started": "2025-06-02T10:55:20.294156Z"
    },
    "trusted": true
   },
   "outputs": [
    {
     "name": "stderr",
     "output_type": "stream",
     "text": [
      "/usr/local/lib/python3.11/dist-packages/seaborn/_oldcore.py:1119: FutureWarning: use_inf_as_na option is deprecated and will be removed in a future version. Convert inf values to NaN before operating instead.\n",
      "  with pd.option_context('mode.use_inf_as_na', True):\n"
     ]
    },
    {
     "data": {
      "image/png": "[encoded data removed]",
      "text/plain": [
       "<Figure size 1500x1200 with 2 Axes>"
      ]
     },
     "metadata": {},
     "output_type": "display_data"
    }
   ],
   "source": [
    "import matplotlib.pyplot as plt\n",
    "import seaborn as sns\n",
    "\n",
    "# Create visualizations\n",
    "plt.figure(figsize=(15, 12))\n",
    "\n",
    "# 1. Response Length Comparison\n",
    "plt.subplot(2, 1, 1)\n",
    "data = pd.DataFrame({\n",
    "    'Ground Truth': eval_results['Ground Truth Length'],\n",
    "    'Generated': eval_results['Generated Length']\n",
    "})\n",
    "sns.boxplot(data=data)\n",
    "plt.title('Response Length Distribution')\n",
    "plt.ylabel('Number of Characters')\n",
    "\n",
    "# 2. Length Difference Distribution\n",
    "plt.subplot(2, 1, 2)\n",
    "sns.histplot(data=eval_results['Length Difference'], bins=30)\n",
    "plt.title('Distribution of Length Differences\\n(Generated - Ground Truth)')\n",
    "plt.xlabel('Character Count Difference')\n",
    "plt.ylabel('Frequency')\n",
    "\n",
    "plt.tight_layout()\n",
    "plt.show()"
   ]
  }
 ],
 "metadata": {
  "kaggle": {
   "accelerator": "nvidiaTeslaT4",
   "dataSources": [],
   "dockerImageVersionId": 31040,
   "isGpuEnabled": true,
   "isInternetEnabled": true,
   "language": "python",
   "sourceType": "notebook"
  },
  "kernelspec": {
   "display_name": "Python 3",
   "language": "python",
   "name": "python3"
  },
  "language_info": {
   "codemirror_mode": {
    "name": "ipython",
    "version": 3
   },
   "file_extension": ".py",
   "mimetype": "text/x-python",
   "name": "python",
   "nbconvert_exporter": "python",
   "pygments_lexer": "ipython3",
   "version": "3.11.11"
  }
 },
 "nbformat": 4,
 "nbformat_minor": 5
}
